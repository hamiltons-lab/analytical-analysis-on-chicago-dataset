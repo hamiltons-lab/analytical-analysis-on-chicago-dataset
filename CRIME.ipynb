{
 "cells": [
  {
   "cell_type": "markdown",
   "metadata": {
    "slideshow": {
     "slide_type": "slide"
    }
   },
   "source": [
    "# CRIME PREDICTION"
   ]
  },
  {
   "cell_type": "code",
   "execution_count": 1,
   "metadata": {
    "slideshow": {
     "slide_type": "skip"
    }
   },
   "outputs": [],
   "source": [
    "#importing libraries\n",
    "import os\n",
    "import pandas as pd\n",
    "import numpy as np\n",
    "import xlrd"
   ]
  },
  {
   "cell_type": "code",
   "execution_count": 2,
   "metadata": {
    "slideshow": {
     "slide_type": "skip"
    }
   },
   "outputs": [],
   "source": [
    "import matplotlib.pyplot as plt\n",
    "from sklearn.cluster import KMeans\n",
    "from scipy.spatial.distance import cdist"
   ]
  },
  {
   "cell_type": "code",
   "execution_count": 2,
   "metadata": {},
   "outputs": [
    {
     "data": {
      "application/vnd.jupyter.widget-view+json": {
       "model_id": "0ab4a1df25184cd5bf67433cdab109fb",
       "version_major": 2,
       "version_minor": 0
      },
      "text/plain": [
       "Button(description='File select', style=ButtonStyle())"
      ]
     },
     "metadata": {},
     "output_type": "display_data"
    }
   ],
   "source": [
    "from ipywidgets import Button\n",
    "from tkinter import Tk, filedialog\n",
    "from IPython.display import clear_output, display\n",
    "\n",
    "def select_files(b):\n",
    "    clear_output()\n",
    "    root = Tk()\n",
    "    root.withdraw() # Hide the main window.\n",
    "    root.call('wm', 'attributes', '.', '-topmost', True) # Raise the root to the top of all windows.\n",
    "    b.files = filedialog.askopenfilename(multiple=True) # List of selected files will be set button's file attribute.\n",
    "    print(b.files) # Print the list of files selected.\n",
    "\n",
    "fileselect = Button(description=\"File select\")\n",
    "fileselect.on_click(select_files)\n",
    "\n",
    "display(fileselect)"
   ]
  },
  {
   "cell_type": "code",
   "execution_count": 4,
   "metadata": {},
   "outputs": [
    {
     "data": {
      "application/vnd.jupyter.widget-view+json": {
       "model_id": "fc98c0a082334586ad3049abb6a31fd4",
       "version_major": 2,
       "version_minor": 0
      },
      "text/plain": [
       "VBox(children=(Button(description='PREDICT', style=ButtonStyle()), Output()))"
      ]
     },
     "metadata": {},
     "output_type": "display_data"
    }
   ],
   "source": [
    "#printing the first five rows\n",
    "import ipywidgets as widgets\n",
    "butt = Button(description='PREDICT')\n",
    "outt = widgets.Output()\n",
    "def on_butt_clicked(b):\n",
    "    with outt:\n",
    "        clear_output()\n",
    "    \n",
    "\n",
    "butt.on_click(on_butt_clicked)\n",
    "widgets.VBox([butt,outt])\n",
    "\n"
   ]
  },
  {
   "cell_type": "code",
   "execution_count": 3,
   "metadata": {
    "slideshow": {
     "slide_type": "skip"
    }
   },
   "outputs": [],
   "source": [
    "#importing the dataset\n",
    "data=pd.read_excel(\"dataset1.xlsx\")"
   ]
  },
  {
   "cell_type": "code",
   "execution_count": 4,
   "metadata": {
    "slideshow": {
     "slide_type": "skip"
    }
   },
   "outputs": [
    {
     "data": {
      "text/plain": [
       "(499, 13)"
      ]
     },
     "execution_count": 4,
     "metadata": {},
     "output_type": "execute_result"
    }
   ],
   "source": [
    "#checking the dataset\n",
    "data.shape"
   ]
  },
  {
   "cell_type": "code",
   "execution_count": 5,
   "metadata": {
    "slideshow": {
     "slide_type": "skip"
    }
   },
   "outputs": [
    {
     "data": {
      "text/html": [
       "<div>\n",
       "<style scoped>\n",
       "    .dataframe tbody tr th:only-of-type {\n",
       "        vertical-align: middle;\n",
       "    }\n",
       "\n",
       "    .dataframe tbody tr th {\n",
       "        vertical-align: top;\n",
       "    }\n",
       "\n",
       "    .dataframe thead th {\n",
       "        text-align: right;\n",
       "    }\n",
       "</style>\n",
       "<table border=\"1\" class=\"dataframe\">\n",
       "  <thead>\n",
       "    <tr style=\"text-align: right;\">\n",
       "      <th></th>\n",
       "      <th>IncidntNum</th>\n",
       "      <th>Category</th>\n",
       "      <th>Descript</th>\n",
       "      <th>DayOfWeek</th>\n",
       "      <th>Date</th>\n",
       "      <th>Time</th>\n",
       "      <th>PdDistrict</th>\n",
       "      <th>Resolution</th>\n",
       "      <th>Address</th>\n",
       "      <th>X</th>\n",
       "      <th>Y</th>\n",
       "      <th>Location</th>\n",
       "      <th>PdId</th>\n",
       "    </tr>\n",
       "  </thead>\n",
       "  <tbody>\n",
       "    <tr>\n",
       "      <th>0</th>\n",
       "      <td>120058272</td>\n",
       "      <td>WEAPON LAWS</td>\n",
       "      <td>POSS OF PROHIBITED WEAPON</td>\n",
       "      <td>Friday</td>\n",
       "      <td>01/29/2016 12:00:00 AM</td>\n",
       "      <td>11:00:00</td>\n",
       "      <td>SOUTHERN</td>\n",
       "      <td>ARREST, BOOKED</td>\n",
       "      <td>800 Block of BRYANT ST</td>\n",
       "      <td>-122.403405</td>\n",
       "      <td>37.775421</td>\n",
       "      <td>(37.775420706711, -122.403404791479)</td>\n",
       "      <td>12005827212120</td>\n",
       "    </tr>\n",
       "    <tr>\n",
       "      <th>1</th>\n",
       "      <td>120058272</td>\n",
       "      <td>WEAPON LAWS</td>\n",
       "      <td>FIREARM, LOADED, IN VEHICLE, POSSESSION OR USE</td>\n",
       "      <td>Friday</td>\n",
       "      <td>01/29/2016 12:00:00 AM</td>\n",
       "      <td>11:00:00</td>\n",
       "      <td>SOUTHERN</td>\n",
       "      <td>ARREST, BOOKED</td>\n",
       "      <td>800 Block of BRYANT ST</td>\n",
       "      <td>-122.403405</td>\n",
       "      <td>37.775421</td>\n",
       "      <td>(37.775420706711, -122.403404791479)</td>\n",
       "      <td>12005827212168</td>\n",
       "    </tr>\n",
       "    <tr>\n",
       "      <th>2</th>\n",
       "      <td>141059263</td>\n",
       "      <td>WARRANTS</td>\n",
       "      <td>WARRANT ARREST</td>\n",
       "      <td>Monday</td>\n",
       "      <td>04/25/2016 12:00:00 AM</td>\n",
       "      <td>14:59:00</td>\n",
       "      <td>BAYVIEW</td>\n",
       "      <td>ARREST, BOOKED</td>\n",
       "      <td>KEITH ST / SHAFTER AV</td>\n",
       "      <td>-122.388856</td>\n",
       "      <td>37.729981</td>\n",
       "      <td>(37.7299809672996, -122.388856204292)</td>\n",
       "      <td>14105926363010</td>\n",
       "    </tr>\n",
       "    <tr>\n",
       "      <th>3</th>\n",
       "      <td>160013662</td>\n",
       "      <td>NON-CRIMINAL</td>\n",
       "      <td>LOST PROPERTY</td>\n",
       "      <td>Tuesday</td>\n",
       "      <td>2016-05-01 00:00:00</td>\n",
       "      <td>23:50:00</td>\n",
       "      <td>TENDERLOIN</td>\n",
       "      <td>NONE</td>\n",
       "      <td>JONES ST / OFARRELL ST</td>\n",
       "      <td>-122.412971</td>\n",
       "      <td>37.785788</td>\n",
       "      <td>(37.7857883766888, -122.412970537591)</td>\n",
       "      <td>16001366271000</td>\n",
       "    </tr>\n",
       "    <tr>\n",
       "      <th>4</th>\n",
       "      <td>160002740</td>\n",
       "      <td>NON-CRIMINAL</td>\n",
       "      <td>LOST PROPERTY</td>\n",
       "      <td>Friday</td>\n",
       "      <td>2016-01-01 00:00:00</td>\n",
       "      <td>00:30:00</td>\n",
       "      <td>MISSION</td>\n",
       "      <td>NONE</td>\n",
       "      <td>16TH ST / MISSION ST</td>\n",
       "      <td>-122.419672</td>\n",
       "      <td>37.765050</td>\n",
       "      <td>(37.7650501214668, -122.419671780296)</td>\n",
       "      <td>16000274071000</td>\n",
       "    </tr>\n",
       "  </tbody>\n",
       "</table>\n",
       "</div>"
      ],
      "text/plain": [
       "   IncidntNum      Category                                        Descript  \\\n",
       "0   120058272   WEAPON LAWS                       POSS OF PROHIBITED WEAPON   \n",
       "1   120058272   WEAPON LAWS  FIREARM, LOADED, IN VEHICLE, POSSESSION OR USE   \n",
       "2   141059263      WARRANTS                                  WARRANT ARREST   \n",
       "3   160013662  NON-CRIMINAL                                   LOST PROPERTY   \n",
       "4   160002740  NON-CRIMINAL                                   LOST PROPERTY   \n",
       "\n",
       "  DayOfWeek                    Date      Time  PdDistrict      Resolution  \\\n",
       "0    Friday  01/29/2016 12:00:00 AM  11:00:00    SOUTHERN  ARREST, BOOKED   \n",
       "1    Friday  01/29/2016 12:00:00 AM  11:00:00    SOUTHERN  ARREST, BOOKED   \n",
       "2    Monday  04/25/2016 12:00:00 AM  14:59:00     BAYVIEW  ARREST, BOOKED   \n",
       "3   Tuesday     2016-05-01 00:00:00  23:50:00  TENDERLOIN            NONE   \n",
       "4    Friday     2016-01-01 00:00:00  00:30:00     MISSION            NONE   \n",
       "\n",
       "                  Address           X          Y  \\\n",
       "0  800 Block of BRYANT ST -122.403405  37.775421   \n",
       "1  800 Block of BRYANT ST -122.403405  37.775421   \n",
       "2   KEITH ST / SHAFTER AV -122.388856  37.729981   \n",
       "3  JONES ST / OFARRELL ST -122.412971  37.785788   \n",
       "4    16TH ST / MISSION ST -122.419672  37.765050   \n",
       "\n",
       "                                Location            PdId  \n",
       "0   (37.775420706711, -122.403404791479)  12005827212120  \n",
       "1   (37.775420706711, -122.403404791479)  12005827212168  \n",
       "2  (37.7299809672996, -122.388856204292)  14105926363010  \n",
       "3  (37.7857883766888, -122.412970537591)  16001366271000  \n",
       "4  (37.7650501214668, -122.419671780296)  16000274071000  "
      ]
     },
     "execution_count": 5,
     "metadata": {},
     "output_type": "execute_result"
    }
   ],
   "source": [
    "#printing the first five rows\n",
    "data.head()"
   ]
  },
  {
   "cell_type": "code",
   "execution_count": 6,
   "metadata": {
    "slideshow": {
     "slide_type": "slide"
    }
   },
   "outputs": [
    {
     "name": "stdout",
     "output_type": "stream",
     "text": [
      "Index(['IncidntNum', 'Category', 'Descript', 'DayOfWeek', 'Date', 'Time',\n",
      "       'PdDistrict', 'Resolution', 'Address', 'X', 'Y', 'Location', 'PdId'],\n",
      "      dtype='object')\n"
     ]
    }
   ],
   "source": [
    "#printing the columns of the dataset\n",
    "print(data.columns)"
   ]
  },
  {
   "cell_type": "code",
   "execution_count": 7,
   "metadata": {
    "slideshow": {
     "slide_type": "slide"
    }
   },
   "outputs": [
    {
     "data": {
      "text/plain": [
       "IncidntNum    0\n",
       "Category      0\n",
       "Descript      0\n",
       "DayOfWeek     0\n",
       "Date          1\n",
       "Time          0\n",
       "PdDistrict    0\n",
       "Resolution    0\n",
       "Address       0\n",
       "X             0\n",
       "Y             0\n",
       "Location      0\n",
       "PdId          0\n",
       "dtype: int64"
      ]
     },
     "execution_count": 7,
     "metadata": {},
     "output_type": "execute_result"
    }
   ],
   "source": [
    "#checking for null value\n",
    "data.isnull().sum()"
   ]
  },
  {
   "cell_type": "code",
   "execution_count": 8,
   "metadata": {
    "slideshow": {
     "slide_type": "skip"
    }
   },
   "outputs": [],
   "source": [
    "#removing the dirty data from datasets\n",
    "data.dropna(inplace=True)"
   ]
  },
  {
   "cell_type": "code",
   "execution_count": 9,
   "metadata": {
    "slideshow": {
     "slide_type": "slide"
    }
   },
   "outputs": [
    {
     "data": {
      "text/plain": [
       "IncidntNum    0\n",
       "Category      0\n",
       "Descript      0\n",
       "DayOfWeek     0\n",
       "Date          0\n",
       "Time          0\n",
       "PdDistrict    0\n",
       "Resolution    0\n",
       "Address       0\n",
       "X             0\n",
       "Y             0\n",
       "Location      0\n",
       "PdId          0\n",
       "dtype: int64"
      ]
     },
     "execution_count": 9,
     "metadata": {},
     "output_type": "execute_result"
    }
   ],
   "source": [
    "data.isnull().sum()"
   ]
  },
  {
   "cell_type": "code",
   "execution_count": 10,
   "metadata": {
    "slideshow": {
     "slide_type": "notes"
    }
   },
   "outputs": [],
   "source": [
    "#data visualization\n",
    "import matplotlib.pyplot as plt\n",
    "import seaborn as sns"
   ]
  },
  {
   "cell_type": "code",
   "execution_count": 1,
   "metadata": {
    "slideshow": {
     "slide_type": "slide"
    }
   },
   "outputs": [
    {
     "ename": "NameError",
     "evalue": "name 'plt' is not defined",
     "output_type": "error",
     "traceback": [
      "\u001b[1;31m---------------------------------------------------------------------------\u001b[0m",
      "\u001b[1;31mNameError\u001b[0m                                 Traceback (most recent call last)",
      "\u001b[1;32m~\\AppData\\Local\\Temp/ipykernel_19592/2885906491.py\u001b[0m in \u001b[0;36m<module>\u001b[1;34m\u001b[0m\n\u001b[0;32m      1\u001b[0m \u001b[1;31m#plotting bar graph of how many crimes occuer how much time\u001b[0m\u001b[1;33m\u001b[0m\u001b[1;33m\u001b[0m\u001b[0m\n\u001b[1;32m----> 2\u001b[1;33m \u001b[0mfig\u001b[0m \u001b[1;33m=\u001b[0m \u001b[0mplt\u001b[0m\u001b[1;33m.\u001b[0m\u001b[0mfigure\u001b[0m\u001b[1;33m(\u001b[0m\u001b[0mfigsize\u001b[0m\u001b[1;33m=\u001b[0m\u001b[1;33m(\u001b[0m\u001b[1;36m20\u001b[0m\u001b[1;33m,\u001b[0m\u001b[1;36m10\u001b[0m\u001b[1;33m)\u001b[0m\u001b[1;33m)\u001b[0m\u001b[1;33m\u001b[0m\u001b[1;33m\u001b[0m\u001b[0m\n\u001b[0m\u001b[0;32m      3\u001b[0m \u001b[0max\u001b[0m\u001b[1;33m=\u001b[0m\u001b[0mdata\u001b[0m\u001b[1;33m[\u001b[0m\u001b[1;34m'Category'\u001b[0m\u001b[1;33m]\u001b[0m\u001b[1;33m.\u001b[0m\u001b[0mvalue_counts\u001b[0m\u001b[1;33m(\u001b[0m\u001b[1;33m)\u001b[0m\u001b[1;33m.\u001b[0m\u001b[0mplot\u001b[0m\u001b[1;33m(\u001b[0m\u001b[0mkind\u001b[0m\u001b[1;33m=\u001b[0m\u001b[1;34m'bar'\u001b[0m\u001b[1;33m,\u001b[0m\u001b[0mtitle\u001b[0m\u001b[1;33m=\u001b[0m\u001b[1;34m'Number of Crimes in San Francisco'\u001b[0m\u001b[1;33m,\u001b[0m\u001b[0mfontsize\u001b[0m\u001b[1;33m=\u001b[0m\u001b[1;36m12\u001b[0m\u001b[1;33m)\u001b[0m\u001b[1;33m\u001b[0m\u001b[1;33m\u001b[0m\u001b[0m\n\u001b[0;32m      4\u001b[0m \u001b[0max\u001b[0m\u001b[1;33m.\u001b[0m\u001b[0mset_xlabel\u001b[0m\u001b[1;33m(\u001b[0m\u001b[1;34m'Crimes'\u001b[0m\u001b[1;33m)\u001b[0m\u001b[1;33m\u001b[0m\u001b[1;33m\u001b[0m\u001b[0m\n\u001b[0;32m      5\u001b[0m \u001b[0max\u001b[0m\u001b[1;33m.\u001b[0m\u001b[0mset_ylabel\u001b[0m\u001b[1;33m(\u001b[0m\u001b[1;34m'No of Occurence'\u001b[0m\u001b[1;33m)\u001b[0m\u001b[1;33m\u001b[0m\u001b[1;33m\u001b[0m\u001b[0m\n",
      "\u001b[1;31mNameError\u001b[0m: name 'plt' is not defined"
     ]
    }
   ],
   "source": [
    "#plotting bar graph of how many crimes occuer how much time\n",
    "fig = plt.figure(figsize=(20,10))\n",
    "ax=data['Category'].value_counts().plot(kind='bar',title='Number of Crimes in San Francisco',fontsize=12)\n",
    "ax.set_xlabel('Crimes')\n",
    "ax.set_ylabel('No of Occurence')\n",
    "plt.show()"
   ]
  },
  {
   "cell_type": "code",
   "execution_count": 12,
   "metadata": {
    "slideshow": {
     "slide_type": "slide"
    }
   },
   "outputs": [
    {
     "data": {
      "image/png": "[encoded data removed]",
      "text/plain": [
       "<Figure size 1440x720 with 1 Axes>"
      ]
     },
     "metadata": {
      "needs_background": "light"
     },
     "output_type": "display_data"
    }
   ],
   "source": [
    "#plotting bar graph of most number of crimes in cities\n",
    "fig = plt.figure(figsize=(20,10))\n",
    "ax=data['PdDistrict'].value_counts().plot(kind='bar',title='Most number of crimes in cities',color='c',fontsize=12)\n",
    "ax.set_xlabel('Cities')\n",
    "ax.set_ylabel('Count')\n",
    "plt.show()"
   ]
  },
  {
   "cell_type": "code",
   "execution_count": 13,
   "metadata": {
    "slideshow": {
     "slide_type": "slide"
    }
   },
   "outputs": [
    {
     "data": {
      "image/png": "[encoded data removed]",
      "text/plain": [
       "<Figure size 1440x720 with 1 Axes>"
      ]
     },
     "metadata": {
      "needs_background": "light"
     },
     "output_type": "display_data"
    }
   ],
   "source": [
    "#Regions with Crime of first 20 Address with most crimes\n",
    "fig = plt.figure(figsize=(20,10))\n",
    "plt.title('Most number of crimes in Address',fontsize=30,fontweight='bold')\n",
    "ax=data['Address'].value_counts().head(20).plot(kind='bar',color='m',fontsize=15)\n",
    "ax.set_xlabel('Address',fontweight='bold',fontsize=20)\n",
    "ax.set_ylabel('Count',fontweight='bold',fontsize=20)\n",
    "plt.show()"
   ]
  },
  {
   "cell_type": "code",
   "execution_count": 14,
   "metadata": {
    "slideshow": {
     "slide_type": "slide"
    }
   },
   "outputs": [
    {
     "data": {
      "image/png": "[encoded data removed]",
      "text/plain": [
       "<Figure size 1440x720 with 1 Axes>"
      ]
     },
     "metadata": {
      "needs_background": "light"
     },
     "output_type": "display_data"
    }
   ],
   "source": [
    "#Regions with Crime of first 20 Address with most crimes\n",
    "fig = plt.figure(figsize=(20,10))\n",
    "plt.title('Most number of crimes Day of Week',fontsize=30,fontweight='bold')\n",
    "ax=data['DayOfWeek'].value_counts().head(20).plot(kind='bar',color='g',fontsize=15)\n",
    "ax.set_xlabel('Day of the Week',fontweight='bold',fontsize=20)\n",
    "ax.set_ylabel('Count',fontweight='bold',fontsize=20)\n",
    "plt.show()"
   ]
  },
  {
   "cell_type": "code",
   "execution_count": 15,
   "metadata": {
    "slideshow": {
     "slide_type": "slide"
    }
   },
   "outputs": [
    {
     "data": {
      "image/png": "[encoded data removed]",
      "text/plain": [
       "<Figure size 1440x720 with 1 Axes>"
      ]
     },
     "metadata": {
      "needs_background": "light"
     },
     "output_type": "display_data"
    }
   ],
   "source": [
    "#Resolutions\n",
    "fig = plt.figure(figsize=(20,10))\n",
    "plt.title('Resolutions',fontsize=30,fontweight='bold')\n",
    "ax=data['Resolution'].value_counts().plot(kind='bar',color='y',fontsize=15)\n",
    "ax.set_xlabel('Type of Resolutions',fontweight='bold',fontsize=20)\n",
    "ax.set_ylabel('Count',fontweight='bold',fontsize=20)\n",
    "plt.show()\n"
   ]
  },
  {
   "cell_type": "code",
   "execution_count": 16,
   "metadata": {},
   "outputs": [
    {
     "data": {
      "text/plain": [
       "array(['ARREST, BOOKED', 'NONE', 'JUVENILE BOOKED', 'ARREST, CITED',\n",
       "       'UNFOUNDED'], dtype=object)"
      ]
     },
     "execution_count": 16,
     "metadata": {},
     "output_type": "execute_result"
    }
   ],
   "source": [
    "data['Resolution'].unique()"
   ]
  },
  {
   "cell_type": "code",
   "execution_count": 17,
   "metadata": {},
   "outputs": [],
   "source": [
    "data['Date']=pd.to_datetime(data['Date'])\n",
    "data['Month'] = data['Date'].dt.month"
   ]
  },
  {
   "cell_type": "code",
   "execution_count": 18,
   "metadata": {
    "slideshow": {
     "slide_type": "slide"
    }
   },
   "outputs": [
    {
     "data": {
      "image/png": "[encoded data removed]",
      "text/plain": [
       "<Figure size 1440x720 with 1 Axes>"
      ]
     },
     "metadata": {
      "needs_background": "light"
     },
     "output_type": "display_data"
    }
   ],
   "source": [
    "fig = plt.figure(figsize=(20,10))\n",
    "plt.title('Crimes in Different Months',fontsize=30,fontweight='bold')\n",
    "ax=data['Month'].value_counts().plot(kind='bar',color='tan',fontsize=15)\n",
    "ax.set_xlabel('Months',fontweight='bold',fontsize=20)\n",
    "ax.set_ylabel('Count',fontweight='bold',fontsize=20)\n",
    "plt.show()\n"
   ]
  },
  {
   "cell_type": "code",
   "execution_count": 19,
   "metadata": {},
   "outputs": [],
   "source": [
    "#considering lattitudes \n",
    "x1=data['Y']\n",
    "y1=data['X']"
   ]
  },
  {
   "cell_type": "code",
   "execution_count": 20,
   "metadata": {},
   "outputs": [],
   "source": [
    "from sklearn.preprocessing import StandardScaler\n",
    "sc=StandardScaler()"
   ]
  },
  {
   "cell_type": "code",
   "execution_count": 21,
   "metadata": {},
   "outputs": [],
   "source": [
    "data = np.array(list(zip(x1, y1))).reshape(len(x1), 2)"
   ]
  },
  {
   "cell_type": "code",
   "execution_count": 22,
   "metadata": {
    "slideshow": {
     "slide_type": "skip"
    }
   },
   "outputs": [
    {
     "data": {
      "text/plain": [
       "array([[  37.77542071, -122.40340479],\n",
       "       [  37.77542071, -122.40340479],\n",
       "       [  37.72998097, -122.3888562 ],\n",
       "       [  37.78578838, -122.41297054],\n",
       "       [  37.76505012, -122.41967178],\n",
       "       [  37.78801856, -122.42607718],\n",
       "       [  37.78087894, -122.40572145],\n",
       "       [  37.78398056, -122.4117783 ],\n",
       "       [  37.77578762, -122.39335724],\n",
       "       [  37.72096696, -122.38718164],\n",
       "       [  37.76447816, -122.47737652],\n",
       "       [  37.74573894, -122.47796033],\n",
       "       [  37.73569703, -122.37675766],\n",
       "       [  37.72927052, -122.43232587],\n",
       "       [  37.79164298, -122.4009087 ],\n",
       "       [  37.78370693, -122.40859511],\n",
       "       [  37.75728959, -122.4068704 ],\n",
       "       [  37.74890631, -122.42035478],\n",
       "       [  37.71576543, -122.43990977],\n",
       "       [  37.78356994, -122.40842112],\n",
       "       [  37.77361863, -122.42231567],\n",
       "       [  37.79284128, -122.42451984],\n",
       "       [  37.75409869, -122.41423385],\n",
       "       [  37.75409869, -122.41423385],\n",
       "       [  37.771494  , -122.50775013],\n",
       "       [  37.7183022 , -122.47444464],\n",
       "       [  37.76457523, -122.4275626 ],\n",
       "       [  37.78743783, -122.419203  ],\n",
       "       [  37.74936883, -122.41269014],\n",
       "       [  37.70920105, -122.43460928],\n",
       "       [  37.78792094, -122.41088283],\n",
       "       [  37.80045665, -122.40143275],\n",
       "       [  37.74355505, -122.42112803],\n",
       "       [  37.78656476, -122.40724409],\n",
       "       [  37.76156559, -122.423803  ],\n",
       "       [  37.76156559, -122.423803  ],\n",
       "       [  37.74419275, -122.44468548],\n",
       "       [  37.77546928, -122.41575704],\n",
       "       [  37.72852806, -122.47564746],\n",
       "       [  37.74285174, -122.42096744],\n",
       "       [  37.78211985, -122.41566966],\n",
       "       [  37.77916742, -122.40634643],\n",
       "       [  37.76571844, -122.40952991],\n",
       "       [  37.77542071, -122.40340479],\n",
       "       [  37.76752431, -122.4107381 ],\n",
       "       [  37.76752431, -122.4107381 ],\n",
       "       [  37.71310834, -122.44431403],\n",
       "       [  37.71310834, -122.44431403],\n",
       "       [  37.76601601, -122.40364462],\n",
       "       [  37.76601601, -122.40364462],\n",
       "       [  37.77623104, -122.4147143 ],\n",
       "       [  37.77623104, -122.4147143 ],\n",
       "       [  37.77751189, -122.41804545],\n",
       "       [  37.78202385, -122.40116156],\n",
       "       [  37.72700532, -122.40340867],\n",
       "       [  37.78383444, -122.41293052],\n",
       "       [  37.75301865, -122.41858717],\n",
       "       [  37.77404184, -122.41437063],\n",
       "       [  37.79053899, -122.40391568],\n",
       "       [  37.78309982, -122.4191831 ],\n",
       "       [  37.74073605, -122.38875305],\n",
       "       [  37.77499129, -122.4377997 ],\n",
       "       [  37.77709027, -122.42133268],\n",
       "       [  37.77709027, -122.42133268],\n",
       "       [  37.78224582, -122.44661298],\n",
       "       [  37.730038  , -122.40459414],\n",
       "       [  37.79533383, -122.39737374],\n",
       "       [  37.78751587, -122.40743499],\n",
       "       [  37.77852338, -122.40346408],\n",
       "       [  37.77852338, -122.40346408],\n",
       "       [  37.77329181, -122.43661418],\n",
       "       [  37.78052758, -122.39684902],\n",
       "       [  37.78052758, -122.39684902],\n",
       "       [  37.72841807, -122.45000079],\n",
       "       [  37.72921146, -122.40083428],\n",
       "       [  37.78800653, -122.39980215],\n",
       "       [  37.72397482, -122.39492848],\n",
       "       [  37.72397482, -122.39492848],\n",
       "       [  37.72397482, -122.39492848],\n",
       "       [  37.78832354, -122.41185703],\n",
       "       [  37.75599773, -122.40943562],\n",
       "       [  37.78707981, -122.42588336],\n",
       "       [  37.73603745, -122.41512654],\n",
       "       [  37.71276788, -122.43192801],\n",
       "       [  37.78957103, -122.40216371],\n",
       "       [  37.73074292, -122.42930673],\n",
       "       [  37.78383656, -122.41379097],\n",
       "       [  37.73074292, -122.42930673],\n",
       "       [  37.73736236, -122.42206718],\n",
       "       [  37.73736236, -122.42206718],\n",
       "       [  37.78599883, -122.41174737],\n",
       "       [  37.76337581, -122.42043472],\n",
       "       [  37.78502266, -122.41198764],\n",
       "       [  37.77462065, -122.50038043],\n",
       "       [  37.77519183, -122.46655878],\n",
       "       [  37.74908417, -122.48692596],\n",
       "       [  37.76853601, -122.41561634],\n",
       "       [  37.76442977, -122.44975165],\n",
       "       [  37.76442977, -122.44975165],\n",
       "       [  37.75928055, -122.48812017],\n",
       "       [  37.75550434, -122.41766064],\n",
       "       [  37.78539063, -122.40102774],\n",
       "       [  37.77329541, -122.42817846],\n",
       "       [  37.71892798, -122.4436969 ],\n",
       "       [  37.72852806, -122.47564746],\n",
       "       [  37.72010921, -122.47592448],\n",
       "       [  37.75356819, -122.42302853],\n",
       "       [  37.77512864, -122.41181447],\n",
       "       [  37.77512864, -122.41181447],\n",
       "       [  37.77512864, -122.41181447],\n",
       "       [  37.77512864, -122.41181447],\n",
       "       [  37.76267028, -122.4351877 ],\n",
       "       [  37.78107596, -122.40440789],\n",
       "       [  37.73401522, -122.39097173],\n",
       "       [  37.78961882, -122.42049729],\n",
       "       [  37.78961882, -122.42049729],\n",
       "       [  37.78961882, -122.42049729],\n",
       "       [  37.78961882, -122.42049729],\n",
       "       [  37.79240308, -122.42449927],\n",
       "       [  37.79240308, -122.42449927],\n",
       "       [  37.75301865, -122.41858717],\n",
       "       [  37.73358848, -122.39097825],\n",
       "       [  37.78545749, -122.40091603],\n",
       "       [  37.79419263, -122.42058344],\n",
       "       [  37.7899181 , -122.40697756],\n",
       "       [  37.72746871, -122.44324453],\n",
       "       [  37.72746871, -122.44324453],\n",
       "       [  37.78273351, -122.42164526],\n",
       "       [  37.75959493, -122.48222229],\n",
       "       [  37.75959493, -122.48222229],\n",
       "       [  37.75959493, -122.48222229],\n",
       "       [  37.79240473, -122.3973878 ],\n",
       "       [  37.78578838, -122.41297054],\n",
       "       [  37.78305295, -122.4115931 ],\n",
       "       [  37.78305295, -122.4115931 ],\n",
       "       [  37.78188586, -122.43665698],\n",
       "       [  37.80031482, -122.41020837],\n",
       "       [  37.7681977 , -122.4212134 ],\n",
       "       [  37.7681977 , -122.4212134 ],\n",
       "       [  37.79333689, -122.39939246],\n",
       "       [  37.78369523, -122.41079168],\n",
       "       [  37.78369523, -122.41079168],\n",
       "       [  37.78369523, -122.41079168],\n",
       "       [  37.78369523, -122.41079168],\n",
       "       [  37.78595078, -122.40801449],\n",
       "       [  37.78157076, -122.47298198],\n",
       "       [  37.80398381, -122.40419359],\n",
       "       [  37.80398381, -122.40419359],\n",
       "       [  37.78491247, -122.40864859],\n",
       "       [  37.75223917, -122.41844819],\n",
       "       [  37.78369523, -122.41079168],\n",
       "       [  37.78868564, -122.42216349],\n",
       "       [  37.79811713, -122.40864694],\n",
       "       [  37.75125335, -122.40231684],\n",
       "       [  37.75125335, -122.40231684],\n",
       "       [  37.78211985, -122.41566966],\n",
       "       [  37.79122552, -122.40419542],\n",
       "       [  37.71156516, -122.46454567],\n",
       "       [  37.77976497, -122.40501478],\n",
       "       [  37.75610979, -122.40760481],\n",
       "       [  37.77542071, -122.40340479],\n",
       "       [  37.73116773, -122.46603936],\n",
       "       [  37.75948846, -122.41797096],\n",
       "       [  37.76355846, -122.47717237],\n",
       "       [  37.77093426, -122.44712374],\n",
       "       [  37.78011627, -122.45481934],\n",
       "       [  37.78864912, -122.40602184],\n",
       "       [  37.77629724, -122.43136164],\n",
       "       [  37.74607534, -122.47035961],\n",
       "       [  37.76950325, -122.41768078],\n",
       "       [  37.72472741, -122.39459146],\n",
       "       [  37.79681245, -122.39698082],\n",
       "       [  37.7691766 , -122.39109353],\n",
       "       [  37.78062692, -122.47017448],\n",
       "       [  37.77334175, -122.41576679],\n",
       "       [  37.77471854, -122.49824723],\n",
       "       [  37.76965974, -122.40594229],\n",
       "       [  37.78522949, -122.47550514],\n",
       "       [  37.78522949, -122.47550514],\n",
       "       [  37.72265851, -122.41246964],\n",
       "       [  37.72265851, -122.41246964],\n",
       "       [  37.79730863, -122.40543208],\n",
       "       [  37.73236795, -122.43974924],\n",
       "       [  37.78418935, -122.40763352],\n",
       "       [  37.78520719, -122.40669059],\n",
       "       [  37.74816641, -122.41822195],\n",
       "       [  37.73079459, -122.40483042],\n",
       "       [  37.79053899, -122.40391568],\n",
       "       [  37.71219983, -122.42086415],\n",
       "       [  37.71219983, -122.42086415],\n",
       "       [  37.71219983, -122.42086415],\n",
       "       [  37.71219983, -122.42086415],\n",
       "       [  37.78408887, -122.40156097],\n",
       "       [  37.71786613, -122.46489903],\n",
       "       [  37.77386178, -122.41304597],\n",
       "       [  37.73817189, -122.42795124],\n",
       "       [  37.74852008, -122.4202473 ],\n",
       "       [  37.74852008, -122.4202473 ],\n",
       "       [  37.77623842, -122.46494004],\n",
       "       [  37.75648641, -122.40653912],\n",
       "       [  37.77986479, -122.4353126 ],\n",
       "       [  37.7884486 , -122.40761289],\n",
       "       [  37.80764035, -122.41991949],\n",
       "       [  37.78307912, -122.39362274],\n",
       "       [  37.7600037 , -122.43610287],\n",
       "       [  37.78730642, -122.40328484],\n",
       "       [  37.77060614, -122.44267887],\n",
       "       [  37.78890489, -122.40165504],\n",
       "       [  37.78331041, -122.38837987],\n",
       "       [  37.78331041, -122.38837987],\n",
       "       [  37.72961352, -122.39469759],\n",
       "       [  37.72961352, -122.39469759],\n",
       "       [  37.77779923, -122.40030242],\n",
       "       [  37.76196742, -122.41718045],\n",
       "       [  37.79802059, -122.43567979],\n",
       "       [  37.79775884, -122.40640997],\n",
       "       [  37.78123526, -122.41880958],\n",
       "       [  37.77503636, -122.44127538],\n",
       "       [  37.7325071 , -122.38439687],\n",
       "       [  37.78688491, -122.40820166],\n",
       "       [  37.77261632, -122.4131707 ],\n",
       "       [  37.77823463, -122.40537381],\n",
       "       [  37.75654866, -122.44695083],\n",
       "       [  37.80507699, -122.42530093],\n",
       "       [  37.78356994, -122.40842112],\n",
       "       [  37.78356994, -122.40842112],\n",
       "       [  37.77998017, -122.39860355],\n",
       "       [  37.77978707, -122.41512784],\n",
       "       [  37.77978707, -122.41512784],\n",
       "       [  37.78506294, -122.40652099],\n",
       "       [  37.78604322, -122.41050926],\n",
       "       [  37.78604322, -122.41050926],\n",
       "       [  37.78604322, -122.41050926],\n",
       "       [  37.78331075, -122.4175307 ],\n",
       "       [  37.75223917, -122.41844819],\n",
       "       [  37.78543785, -122.41788544],\n",
       "       [  37.73074292, -122.42930673],\n",
       "       [  37.77451454, -122.45283977],\n",
       "       [  37.78775706, -122.42012032],\n",
       "       [  37.7370621 , -122.38490409],\n",
       "       [  37.73559261, -122.39041696],\n",
       "       [  37.77568588, -122.40928227],\n",
       "       [  37.8028475 , -122.43497475],\n",
       "       [  37.73559261, -122.39041696],\n",
       "       [  37.73559261, -122.39041696],\n",
       "       [  37.7690748 , -122.41335419],\n",
       "       [  37.7690748 , -122.41335419],\n",
       "       [  37.76263842, -122.39556526],\n",
       "       [  37.78232359, -122.40379326],\n",
       "       [  37.71872241, -122.40210488],\n",
       "       [  37.78740984, -122.41154045],\n",
       "       [  37.78127074, -122.41133956],\n",
       "       [  37.71193537, -122.40563444],\n",
       "       [  37.72920336, -122.37401933],\n",
       "       [  37.73577633, -122.42016421],\n",
       "       [  37.76689313, -122.41710224],\n",
       "       [  37.78232912, -122.41402982],\n",
       "       [  37.77879588, -122.42253648],\n",
       "       [  37.78335704, -122.41671073],\n",
       "       [  37.75953195, -122.48491538],\n",
       "       [  37.75953195, -122.48491538],\n",
       "       [  37.79504468, -122.39661226],\n",
       "       [  37.72864113, -122.37315864],\n",
       "       [  37.75175928, -122.41284639],\n",
       "       [  37.73697308, -122.39607285],\n",
       "       [  37.75761347, -122.41902527],\n",
       "       [  37.75761347, -122.41902527],\n",
       "       [  37.78938922, -122.43386682],\n",
       "       [  37.77386178, -122.41304597],\n",
       "       [  37.78465763, -122.41443316],\n",
       "       [  37.78004785, -122.43197958],\n",
       "       [  37.7558915 , -122.44118994],\n",
       "       [  37.77370544, -122.43331468],\n",
       "       [  37.73565879, -122.3827454 ],\n",
       "       [  37.78920263, -122.42378518],\n",
       "       [  37.7819577 , -122.46441978],\n",
       "       [  37.77788796, -122.41360156],\n",
       "       [  37.77788796, -122.41360156],\n",
       "       [  37.77853494, -122.41742986],\n",
       "       [  37.77853494, -122.41742986],\n",
       "       [  37.79602396, -122.4066571 ],\n",
       "       [  37.73109989, -122.38928635],\n",
       "       [  37.73109989, -122.38928635],\n",
       "       [  37.77895747, -122.42171323],\n",
       "       [  37.78316141, -122.41161508],\n",
       "       [  37.74407618, -122.40603671],\n",
       "       [  37.75120075, -122.40898022],\n",
       "       [  37.78578838, -122.41297054],\n",
       "       [  37.75287877, -122.40866469],\n",
       "       [  37.78418471, -122.4185621 ],\n",
       "       [  37.79252435, -122.40919982],\n",
       "       [  37.79252435, -122.40919982],\n",
       "       [  37.76513397, -122.41921296],\n",
       "       [  37.771845  , -122.43294024],\n",
       "       [  37.77879352, -122.42680516],\n",
       "       [  37.78327552, -122.40984944],\n",
       "       [  37.80329385, -122.41735783],\n",
       "       [  37.73338153, -122.37993268],\n",
       "       [  37.7443967 , -122.44269947],\n",
       "       [  37.73898817, -122.40058909],\n",
       "       [  37.77563367, -122.41244737],\n",
       "       [  37.77855186, -122.41020609],\n",
       "       [  37.76844569, -122.43120329],\n",
       "       [  37.78587063, -122.43130954],\n",
       "       [  37.78587063, -122.43130954],\n",
       "       [  37.78175113, -122.41107142],\n",
       "       [  37.78175113, -122.41107142],\n",
       "       [  37.78175113, -122.41107142],\n",
       "       [  37.71166766, -122.44752622],\n",
       "       [  37.78764305, -122.40343409],\n",
       "       [  37.72162637, -122.4386424 ],\n",
       "       [  37.72162637, -122.4386424 ],\n",
       "       [  37.77625209, -122.42791756],\n",
       "       [  37.77625209, -122.42791756],\n",
       "       [  37.78502266, -122.41198764],\n",
       "       [  37.72252085, -122.45092942],\n",
       "       [  37.72252085, -122.45092942],\n",
       "       [  37.7825852 , -122.41569492],\n",
       "       [  37.72371738, -122.43743812],\n",
       "       [  37.78379515, -122.45849074],\n",
       "       [  37.76286165, -122.44929504],\n",
       "       [  37.77542071, -122.40340479],\n",
       "       [  37.77893379, -122.40497445],\n",
       "       [  37.80786035, -122.40813611],\n",
       "       [  37.78264353, -122.44359705],\n",
       "       [  37.78264353, -122.44359705],\n",
       "       [  37.75352863, -122.41007271],\n",
       "       [  37.75352863, -122.41007271],\n",
       "       [  37.75429321, -122.42414255],\n",
       "       [  37.76468171, -122.47278586],\n",
       "       [  37.74510153, -122.39218442],\n",
       "       [  37.74829783, -122.41148637],\n",
       "       [  37.74829783, -122.41148637],\n",
       "       [  37.78740741, -122.40741303],\n",
       "       [  37.76563888, -122.46205994],\n",
       "       [  37.75301011, -122.50433061],\n",
       "       [  37.75729192, -122.42797218],\n",
       "       [  37.77813867, -122.40908468],\n",
       "       [  37.77813867, -122.40908468],\n",
       "       [  37.72959507, -122.4934685 ],\n",
       "       [  37.7722643 , -122.42964461],\n",
       "       [  37.7754478 , -122.46335439],\n",
       "       [  37.71717341, -122.47257042],\n",
       "       [  37.78231924, -122.42577891],\n",
       "       [  37.79076386, -122.39009425],\n",
       "       [  37.72852806, -122.47564746],\n",
       "       [  37.78546597, -122.40558263],\n",
       "       [  37.75299053, -122.40681364],\n",
       "       [  37.78912093, -122.40377225],\n",
       "       [  37.73479877, -122.40547829],\n",
       "       [  37.73479877, -122.40547829],\n",
       "       [  37.75453879, -122.39949499],\n",
       "       [  37.77704362, -122.41358348],\n",
       "       [  37.77704362, -122.41358348],\n",
       "       [  37.71506343, -122.4466395 ],\n",
       "       [  37.77676403, -122.39682927],\n",
       "       [  37.77254054, -122.46620467],\n",
       "       [  37.7779765 , -122.40939157],\n",
       "       [  37.77656479, -122.40751683],\n",
       "       [  37.78506294, -122.40652099],\n",
       "       [  37.78506294, -122.40652099],\n",
       "       [  37.80484229, -122.41262444],\n",
       "       [  37.73611814, -122.39646879],\n",
       "       [  37.73175537, -122.48277573],\n",
       "       [  37.76133993, -122.50592326],\n",
       "       [  37.80521123, -122.41689154],\n",
       "       [  37.78113046, -122.40750545],\n",
       "       [  37.7707189 , -122.42237503],\n",
       "       [  37.734618  , -122.47708031],\n",
       "       [  37.734618  , -122.47708031],\n",
       "       [  37.80546878, -122.43727267],\n",
       "       [  37.74782906, -122.41056871],\n",
       "       [  37.74782906, -122.41056871],\n",
       "       [  37.74782906, -122.41056871],\n",
       "       [  37.79050942, -122.41736821],\n",
       "       [  37.78491419, -122.4119658 ],\n",
       "       [  37.76294183, -122.44148826],\n",
       "       [  37.76294183, -122.44148826],\n",
       "       [  37.77254054, -122.46620467],\n",
       "       [  37.72068987, -122.4100272 ],\n",
       "       [  37.78599631, -122.41132837],\n",
       "       [  37.78666701, -122.42075385],\n",
       "       [  37.74816641, -122.41822195],\n",
       "       [  37.78482831, -122.40397127],\n",
       "       [  37.73292615, -122.39926446],\n",
       "       [  37.74730042, -122.4269379 ],\n",
       "       [  37.7664286 , -122.4643833 ],\n",
       "       [  37.76505012, -122.41967178],\n",
       "       [  37.71918954, -122.48466633],\n",
       "       [  37.79621763, -122.40553947],\n",
       "       [  37.79621763, -122.40553947],\n",
       "       [  37.78833512, -122.41603298],\n",
       "       [  37.78175113, -122.41107142],\n",
       "       [  37.77362241, -122.46374993],\n",
       "       [  37.77362241, -122.46374993],\n",
       "       [  37.77362241, -122.46374993],\n",
       "       [  37.78004785, -122.43197958],\n",
       "       [  37.78289465, -122.42081833],\n",
       "       [  37.74105498, -122.40682518],\n",
       "       [  37.74355505, -122.42112803],\n",
       "       [  37.7958527 , -122.430185  ],\n",
       "       [  37.78316141, -122.41161508],\n",
       "       [  37.72370174, -122.45567853],\n",
       "       [  37.72010921, -122.47592448],\n",
       "       [  37.72010921, -122.47592448],\n",
       "       [  37.72010921, -122.47592448],\n",
       "       [  37.72010921, -122.47592448],\n",
       "       [  37.78316141, -122.41161508],\n",
       "       [  37.76036569, -122.41702839],\n",
       "       [  37.79282365, -122.39703419],\n",
       "       [  37.76097784, -122.4199811 ],\n",
       "       [  37.76261908, -122.43295113],\n",
       "       [  37.76824631, -122.45335465],\n",
       "       [  37.79550387, -122.42160889],\n",
       "       [  37.76102017, -122.43279535],\n",
       "       [  37.77417865, -122.51003253],\n",
       "       [  37.77417865, -122.51003253],\n",
       "       [  37.78778674, -122.40307089],\n",
       "       [  37.7798912 , -122.46748865],\n",
       "       [  37.72458916, -122.43487054],\n",
       "       [  37.78003044, -122.43211623],\n",
       "       [  37.77749368, -122.41629382],\n",
       "       [  37.7371979 , -122.38277925],\n",
       "       [  37.73953465, -122.38903333],\n",
       "       [  37.76653872, -122.42204594],\n",
       "       [  37.75996673, -122.42364396],\n",
       "       [  37.77246824, -122.38951765],\n",
       "       [  37.78977742, -122.41969481],\n",
       "       [  37.78977742, -122.41969481],\n",
       "       [  37.77858532, -122.40852079],\n",
       "       [  37.78346872, -122.41257364],\n",
       "       [  37.77958926, -122.45731979],\n",
       "       [  37.78709665, -122.41072163],\n",
       "       [  37.78234964, -122.43251538],\n",
       "       [  37.8096707 , -122.36556543],\n",
       "       [  37.75589875, -122.40067747],\n",
       "       [  37.75993436, -122.42327616],\n",
       "       [  37.7691663 , -122.45353456],\n",
       "       [  37.7691663 , -122.45353456],\n",
       "       [  37.7850961 , -122.41275876],\n",
       "       [  37.72322224, -122.39526549],\n",
       "       [  37.78578282, -122.42815114],\n",
       "       [  37.78578282, -122.42815114],\n",
       "       [  37.78327673, -122.41408114],\n",
       "       [  37.76875744, -122.42134733],\n",
       "       [  37.78599306, -122.39506247],\n",
       "       [  37.74829783, -122.41148637],\n",
       "       [  37.7218104 , -122.41648354],\n",
       "       [  37.80115899, -122.40149973],\n",
       "       [  37.727293  , -122.42427648],\n",
       "       [  37.75422363, -122.47809616],\n",
       "       [  37.80862506, -122.41252724],\n",
       "       [  37.80862506, -122.41252724],\n",
       "       [  37.7900284 , -122.40271197],\n",
       "       [  37.7900284 , -122.40271197],\n",
       "       [  37.7900284 , -122.40271197],\n",
       "       [  37.7900284 , -122.40271197],\n",
       "       [  37.73121963, -122.39180699],\n",
       "       [  37.76493197, -122.45675887],\n",
       "       [  37.79364319, -122.41118943],\n",
       "       [  37.73643866, -122.41298081],\n",
       "       [  37.77542071, -122.40340479],\n",
       "       [  37.73605819, -122.39948347],\n",
       "       [  37.72003895, -122.45309061],\n",
       "       [  37.76365331, -122.41037178],\n",
       "       [  37.78465763, -122.41443316],\n",
       "       [  37.72050646, -122.39036028],\n",
       "       [  37.7383339 , -122.3851351 ],\n",
       "       [  37.76165277, -122.39057496],\n",
       "       [  37.78156683, -122.40805254],\n",
       "       [  37.77512428, -122.46922643],\n",
       "       [  37.73757096, -122.41149266],\n",
       "       [  37.76505012, -122.41967178],\n",
       "       [  37.76505012, -122.41967178],\n",
       "       [  37.78588822, -122.41174252],\n",
       "       [  37.77070812, -122.42596302],\n",
       "       [  37.75687069, -122.42072271],\n",
       "       [  37.78418935, -122.40763352],\n",
       "       [  37.8025736 , -122.40038746],\n",
       "       [  37.78662723, -122.40586166],\n",
       "       [  37.76505012, -122.41967178],\n",
       "       [  37.79299795, -122.42372128],\n",
       "       [  37.79285238, -122.41694087],\n",
       "       [  37.76097661, -122.43445735],\n",
       "       [  37.72878578, -122.43837083],\n",
       "       [  37.72878578, -122.43837083],\n",
       "       [  37.72878578, -122.43837083],\n",
       "       [  37.77542071, -122.40340479],\n",
       "       [  37.77542071, -122.40340479],\n",
       "       [  37.8006947 , -122.43677584],\n",
       "       [  37.73243239, -122.39152289],\n",
       "       [  37.79971945, -122.44101105],\n",
       "       [  37.77438417, -122.46494472],\n",
       "       [  37.79855258, -122.4239859 ],\n",
       "       [  37.75715804, -122.40660492],\n",
       "       [  37.72940756, -122.40440719],\n",
       "       [  37.76254864, -122.43406345],\n",
       "       [  37.77281156, -122.41282665]])"
      ]
     },
     "execution_count": 22,
     "metadata": {},
     "output_type": "execute_result"
    }
   ],
   "source": [
    "data"
   ]
  },
  {
   "cell_type": "code",
   "execution_count": 23,
   "metadata": {
    "slideshow": {
     "slide_type": "skip"
    }
   },
   "outputs": [
    {
     "data": {
      "text/plain": [
       "KMeans(n_clusters=3)"
      ]
     },
     "execution_count": 23,
     "metadata": {},
     "output_type": "execute_result"
    }
   ],
   "source": [
    "#for k in cl:\n",
    "kmean=KMeans(n_clusters=3)\n",
    "kmean.fit(data)"
   ]
  },
  {
   "cell_type": "code",
   "execution_count": 24,
   "metadata": {
    "slideshow": {
     "slide_type": "skip"
    }
   },
   "outputs": [
    {
     "data": {
      "text/plain": [
       "array([[  37.78221551, -122.41372432],\n",
       "       [  37.73640577, -122.41112983],\n",
       "       [  37.75495375, -122.46937141]])"
      ]
     },
     "execution_count": 24,
     "metadata": {},
     "output_type": "execute_result"
    }
   ],
   "source": [
    "kmean.cluster_centers_"
   ]
  },
  {
   "cell_type": "code",
   "execution_count": 25,
   "metadata": {
    "scrolled": true,
    "slideshow": {
     "slide_type": "slide"
    }
   },
   "outputs": [
    {
     "data": {
      "image/png": "[encoded data removed]",
      "text/plain": [
       "<Figure size 432x288 with 1 Axes>"
      ]
     },
     "metadata": {
      "needs_background": "light"
     },
     "output_type": "display_data"
    }
   ],
   "source": [
    "plt.scatter(x1, y1, s =50, c='b')\n",
    "plt.scatter(37.73640577, -122.41112983, s=200, c='g', marker='s')\n",
    "plt.scatter(37.78221551, -122.41372432, s=200, c='r', marker='s')\n",
    "plt.scatter(37.75495375, -122.46937141, s=200, c='y', marker='s')\n",
    "plt.show()"
   ]
  }
 ],
 "metadata": {
  "kernelspec": {
   "display_name": "Python 3 (ipykernel)",
   "language": "python",
   "name": "python3"
  },
  "language_info": {
   "codemirror_mode": {
    "name": "ipython",
    "version": 3
   },
   "file_extension": ".py",
   "mimetype": "text/x-python",
   "name": "python",
   "nbconvert_exporter": "python",
   "pygments_lexer": "ipython3",
   "version": "3.9.12"
  }
 },
 "nbformat": 4,
 "nbformat_minor": 4
}
